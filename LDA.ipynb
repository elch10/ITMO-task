{
  "nbformat": 4,
  "nbformat_minor": 0,
  "metadata": {
    "colab": {
      "name": "LDA.ipynb",
      "version": "0.3.2",
      "provenance": [],
      "collapsed_sections": [
        "nSkHasxl0bua"
      ]
    },
    "kernelspec": {
      "name": "python3",
      "display_name": "Python 3"
    }
  },
  "cells": [
    {
      "cell_type": "code",
      "metadata": {
        "colab_type": "code",
        "outputId": "6d65d272-fa87-4ead-be43-a3e1b7fbfb0c",
        "id": "Vv1xu-AsHNiY",
        "colab": {
          "base_uri": "https://localhost:8080/",
          "height": 122
        }
      },
      "source": [
        "from google.colab import drive\n",
        "drive.mount('/gdrive')"
      ],
      "execution_count": 1,
      "outputs": [
        {
          "output_type": "stream",
          "text": [
            "Mounted at /gdrive\n"
          ],
          "name": "stdout"
        }
      ]
    },
    {
      "cell_type": "code",
      "metadata": {
        "id": "ERoCevunW1pa",
        "colab_type": "code",
        "outputId": "e874034d-c76f-4d55-be52-38f9f3915d4a",
        "colab": {
          "base_uri": "https://localhost:8080/",
          "height": 51
        }
      },
      "source": [
        "%%time\n",
        "import pandas as pd\n",
        "import pickle\n",
        "\n",
        "pd.set_option('display.max_colwidth', -1)\n",
        "\n",
        "PATH = 'Задача 1/input/'\n",
        "\n",
        "df = pd.read_csv(PATH + 'train.csv', index_col='doc_id')\n",
        "test_df = pd.read_csv(PATH + 'test.csv', index_col='doc_id')"
      ],
      "execution_count": 3,
      "outputs": [
        {
          "output_type": "stream",
          "text": [
            "CPU times: user 11.4 s, sys: 2.02 s, total: 13.5 s\n",
            "Wall time: 13.7 s\n"
          ],
          "name": "stdout"
        }
      ]
    },
    {
      "cell_type": "markdown",
      "metadata": {
        "id": "aqOhcuWJezjn",
        "colab_type": "text"
      },
      "source": [
        "## Sklearn Latent Dirichlet Allocation"
      ]
    },
    {
      "cell_type": "markdown",
      "metadata": {
        "id": "czadrcWztWut",
        "colab_type": "text"
      },
      "source": [
        "### Training"
      ]
    },
    {
      "cell_type": "markdown",
      "metadata": {
        "id": "rTFJXdehqBRa",
        "colab_type": "text"
      },
      "source": [
        "First, I'll convert data to the bag of words format"
      ]
    },
    {
      "cell_type": "code",
      "metadata": {
        "id": "SWQQfIwtBhN0",
        "colab_type": "code",
        "colab": {
          "base_uri": "https://localhost:8080/",
          "height": 51
        },
        "outputId": "61d2b3f2-948a-4199-ad9f-b591ea93868a"
      },
      "source": [
        "import nltk\n",
        "nltk.download('stopwords')\n",
        "from nltk.corpus import stopwords\n",
        "stopWords = stopwords.words('russian')"
      ],
      "execution_count": 10,
      "outputs": [
        {
          "output_type": "stream",
          "text": [
            "[nltk_data] Downloading package stopwords to /root/nltk_data...\n",
            "[nltk_data]   Unzipping corpora/stopwords.zip.\n"
          ],
          "name": "stdout"
        }
      ]
    },
    {
      "cell_type": "code",
      "metadata": {
        "id": "9mRnrrqie2sJ",
        "colab_type": "code",
        "colab": {
          "base_uri": "https://localhost:8080/",
          "height": 51
        },
        "outputId": "0c8ee869-5171-4e88-95aa-ecd1434773cb"
      },
      "source": [
        "%%time\n",
        "from sklearn.feature_extraction.text import CountVectorizer\n",
        "\n",
        "features = 100000\n",
        "\n",
        "tf_vectorizer = CountVectorizer(max_df=0.95, min_df=2,\n",
        "                                max_features=100000,\n",
        "                                stop_words=stopWords)\n",
        "\n",
        "tf = tf_vectorizer.fit_transform(df['text'])\n",
        "\n",
        "tf_feature_names = tf_vectorizer.get_feature_names()"
      ],
      "execution_count": 11,
      "outputs": [
        {
          "output_type": "stream",
          "text": [
            "CPU times: user 1min 24s, sys: 1.59 s, total: 1min 26s\n",
            "Wall time: 1min 26s\n"
          ],
          "name": "stdout"
        }
      ]
    },
    {
      "cell_type": "markdown",
      "metadata": {
        "id": "DzpMTFCcqOkk",
        "colab_type": "text"
      },
      "source": [
        "I choose 50 topics for lda"
      ]
    },
    {
      "cell_type": "code",
      "metadata": {
        "id": "GuXHnh4QfJ0n",
        "colab_type": "code",
        "colab": {}
      },
      "source": [
        "from sklearn.decomposition import LatentDirichletAllocation\n",
        "n_components = 50\n",
        "lda = LatentDirichletAllocation(n_components=n_components, max_iter=1,\n",
        "                                learning_method='online', random_state=17,\n",
        "                                verbose=True, n_jobs=-1)"
      ],
      "execution_count": 0,
      "outputs": []
    },
    {
      "cell_type": "code",
      "metadata": {
        "id": "tTEUR1jhfzS_",
        "colab_type": "code",
        "colab": {}
      },
      "source": [
        "lda.fit(tf)"
      ],
      "execution_count": 0,
      "outputs": []
    },
    {
      "cell_type": "code",
      "metadata": {
        "id": "AmUa4pnnAg0f",
        "colab_type": "code",
        "colab": {}
      },
      "source": [
        "pkl_filename = \"/ITMO/pickle_model.pkl\"\n",
        "with open(pkl_filename, 'wb') as file:\n",
        "    pickle.dump(lda, file)"
      ],
      "execution_count": 0,
      "outputs": []
    },
    {
      "cell_type": "code",
      "metadata": {
        "id": "0VGJdaYIgMuI",
        "colab_type": "code",
        "colab": {}
      },
      "source": [
        "def top_words(model, feature_names, n_top_words):\n",
        "  l = []\n",
        "  for topic in lda.components_:\n",
        "    topic_tokens = \" \".join([feature_names[i]\n",
        "                             for i in topic.argsort()[:-n_top_words - 1:-1]])\n",
        "    l.append(topic_tokens)\n",
        "  return pd.Series(data=l, name='topic_tokens')"
      ],
      "execution_count": 0,
      "outputs": []
    },
    {
      "cell_type": "code",
      "metadata": {
        "id": "sNOt4ue_yycp",
        "colab_type": "code",
        "colab": {}
      },
      "source": [
        "topics_to_tokens = top_words(lda, tf_feature_names, 5)"
      ],
      "execution_count": 0,
      "outputs": []
    },
    {
      "cell_type": "code",
      "metadata": {
        "id": "_YodhrrcB4kt",
        "colab_type": "code",
        "colab": {
          "base_uri": "https://localhost:8080/",
          "height": 204
        },
        "outputId": "d60f740c-0c26-4dfe-c560-a9bfb46885a3"
      },
      "source": [
        "topics_to_tokens[:10]"
      ],
      "execution_count": 112,
      "outputs": [
        {
          "output_type": "execute_result",
          "data": {
            "text/plain": [
              "0    серия порядке сегодня сезон сериал     \n",
              "1    любовь любить сердце люди знаешь       \n",
              "2    людей люди хочется жизни умеешь        \n",
              "3    жизнь жизни человека люди людей        \n",
              "4    минут масло воды затем масла           \n",
              "5    окружающим людей уважение людям следует\n",
              "6    бизнес страница теги como сайт         \n",
              "7    лишь свет руки любви детей             \n",
              "8    женщина говорит мужчина муж сказала    \n",
              "9    репост выбираем авы группу рандомно    \n",
              "Name: topic_tokens, dtype: object"
            ]
          },
          "metadata": {
            "tags": []
          },
          "execution_count": 112
        }
      ]
    },
    {
      "cell_type": "markdown",
      "metadata": {
        "id": "p5QUjqoptbI2",
        "colab_type": "text"
      },
      "source": [
        "### Testing"
      ]
    },
    {
      "cell_type": "code",
      "metadata": {
        "id": "BzPmpVgFtzGZ",
        "colab_type": "code",
        "colab": {
          "base_uri": "https://localhost:8080/",
          "height": 51
        },
        "outputId": "ef9595fd-cf7a-435e-ce0d-1f5ad1f65029"
      },
      "source": [
        "%%time\n",
        "test_tf = tf_vectorizer.transform(test_df['text'])\n",
        "ans = lda.transform(test_tf)"
      ],
      "execution_count": 49,
      "outputs": [
        {
          "output_type": "stream",
          "text": [
            "CPU times: user 10.3 s, sys: 117 ms, total: 10.4 s\n",
            "Wall time: 10.4 s\n"
          ],
          "name": "stdout"
        }
      ]
    },
    {
      "cell_type": "code",
      "metadata": {
        "id": "KDxZjbtIn9Sd",
        "colab_type": "code",
        "colab": {}
      },
      "source": [
        "test_df['label'] = np.argmax(ans, axis=1)"
      ],
      "execution_count": 0,
      "outputs": []
    },
    {
      "cell_type": "markdown",
      "metadata": {
        "id": "eiBEWYHArB2J",
        "colab_type": "text"
      },
      "source": [
        "Save topic number for every document and popular words for every topic"
      ]
    },
    {
      "cell_type": "code",
      "metadata": {
        "id": "q5reaS3Msaap",
        "colab_type": "code",
        "colab": {}
      },
      "source": [
        "test_df.to_csv('ITMO/labels.csv', columns=['label'], index=True)\n",
        "topics_to_tokens.to_csv('ITMO/topics_tokens.csv', \n",
        "                        index_label='topic_id', header=True)"
      ],
      "execution_count": 0,
      "outputs": []
    },
    {
      "cell_type": "markdown",
      "metadata": {
        "id": "8hwSek-eznpk",
        "colab_type": "text"
      },
      "source": [
        "### Evaluation"
      ]
    },
    {
      "cell_type": "markdown",
      "metadata": {
        "colab_type": "text",
        "id": "JnINardHJwWm"
      },
      "source": [
        "#### Quantitative metric"
      ]
    },
    {
      "cell_type": "markdown",
      "metadata": {
        "id": "e0su72tHNvpb",
        "colab_type": "text"
      },
      "source": [
        "For evaluating LDA we can use [perplexity](http://qpleple.com/perplexity-to-evaluate-topic-models/). Perplexity - The most common way to evaluate a probabilistic model is to measure the log-likelihood of a held-out test set."
      ]
    },
    {
      "cell_type": "code",
      "metadata": {
        "id": "KlN41hOkAdgG",
        "colab_type": "code",
        "colab": {
          "base_uri": "https://localhost:8080/",
          "height": 34
        },
        "outputId": "0856b162-078c-4e50-87f2-405d34f649ec"
      },
      "source": [
        "lda.perplexity(test_tf)"
      ],
      "execution_count": 31,
      "outputs": [
        {
          "output_type": "execute_result",
          "data": {
            "text/plain": [
              "31362.778725074197"
            ]
          },
          "metadata": {
            "tags": []
          },
          "execution_count": 31
        }
      ]
    },
    {
      "cell_type": "markdown",
      "metadata": {
        "id": "sUwFLkJhS7VA",
        "colab_type": "text"
      },
      "source": [
        "Perplexity is quite large. Due that we can try different number of topics and then look on the perplexity. So we can find optimal numbers of topics"
      ]
    },
    {
      "cell_type": "markdown",
      "metadata": {
        "id": "fkEOkPQCCjqh",
        "colab_type": "text"
      },
      "source": [
        "### Возможные улучшения"
      ]
    },
    {
      "cell_type": "markdown",
      "metadata": {
        "id": "Jtdpf7nWCo4q",
        "colab_type": "text"
      },
      "source": [
        "1) Choose amount of topics relying on perplexity - [1]\n",
        "\n",
        "2) Change *max_df* of *CountVectorizer* to 0.6 as advised here - [1]\n",
        "\n",
        "3) Lemmatizing/Stemming\n",
        "\n",
        "4) *TF-IDF* instead of *CountVectorizer*\n",
        "\n",
        "[[1]](https://www.quora.com/What-are-good-ways-of-evaluating-the-topics-generated-by-running-LDA-on-a-corpus)"
      ]
    }
  ]
}