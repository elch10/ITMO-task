{
  "nbformat": 4,
  "nbformat_minor": 0,
  "metadata": {
    "colab": {
      "name": "LDA.ipynb",
      "version": "0.3.2",
      "provenance": [],
      "collapsed_sections": [
        "nSkHasxl0bua"
      ]
    },
    "kernelspec": {
      "name": "python3",
      "display_name": "Python 3"
    }
  },
  "cells": [
    {
      "cell_type": "code",
      "metadata": {
        "colab_type": "code",
        "outputId": "6d65d272-fa87-4ead-be43-a3e1b7fbfb0c",
        "id": "Vv1xu-AsHNiY",
        "colab": {
          "base_uri": "https://localhost:8080/",
          "height": 122
        }
      },
      "source": [
        "from google.colab import drive\n",
        "drive.mount('/gdrive')"
      ],
      "execution_count": 1,
      "outputs": [
        {
          "output_type": "stream",
          "text": [
            "Mounted at /gdrive\n"
          ],
          "name": "stdout"
        }
      ]
    },
    {
      "cell_type": "code",
      "metadata": {
        "id": "ERoCevunW1pa",
        "colab_type": "code",
        "outputId": "e874034d-c76f-4d55-be52-38f9f3915d4a",
        "colab": {
          "base_uri": "https://localhost:8080/",
          "height": 51
        }
      },
      "source": [
        "%%time\n",
        "import pandas as pd\n",
        "import pickle\n",
        "\n",
        "pd.set_option('display.max_colwidth', -1)\n",
        "\n",
        "PATH = 'Задача 1/input/'\n",
        "\n",
        "df = pd.read_csv(PATH + 'train.csv', index_col='doc_id')\n",
        "test_df = pd.read_csv(PATH + 'test.csv', index_col='doc_id')"
      ],
      "execution_count": 3,
      "outputs": [
        {
          "output_type": "stream",
          "text": [
            "CPU times: user 11.4 s, sys: 2.02 s, total: 13.5 s\n",
            "Wall time: 13.7 s\n"
          ],
          "name": "stdout"
        }
      ]
    },
    {
      "cell_type": "markdown",
      "metadata": {
        "id": "aqOhcuWJezjn",
        "colab_type": "text"
      },
      "source": [
        "## Sklearn Latent Dirichlet Allocation"
      ]
    },
    {
      "cell_type": "markdown",
      "metadata": {
        "id": "czadrcWztWut",
        "colab_type": "text"
      },
      "source": [
        "### Обучение"
      ]
    },
    {
      "cell_type": "markdown",
      "metadata": {
        "id": "rTFJXdehqBRa",
        "colab_type": "text"
      },
      "source": [
        "Преобразуем данные в формат bag of words"
      ]
    },
    {
      "cell_type": "code",
      "metadata": {
        "id": "SWQQfIwtBhN0",
        "colab_type": "code",
        "colab": {
          "base_uri": "https://localhost:8080/",
          "height": 51
        },
        "outputId": "61d2b3f2-948a-4199-ad9f-b591ea93868a"
      },
      "source": [
        "import nltk\n",
        "nltk.download('stopwords')\n",
        "from nltk.corpus import stopwords\n",
        "stopWords = stopwords.words('russian')"
      ],
      "execution_count": 10,
      "outputs": [
        {
          "output_type": "stream",
          "text": [
            "[nltk_data] Downloading package stopwords to /root/nltk_data...\n",
            "[nltk_data]   Unzipping corpora/stopwords.zip.\n"
          ],
          "name": "stdout"
        }
      ]
    },
    {
      "cell_type": "code",
      "metadata": {
        "id": "9mRnrrqie2sJ",
        "colab_type": "code",
        "colab": {
          "base_uri": "https://localhost:8080/",
          "height": 51
        },
        "outputId": "0c8ee869-5171-4e88-95aa-ecd1434773cb"
      },
      "source": [
        "%%time\n",
        "from sklearn.feature_extraction.text import CountVectorizer\n",
        "\n",
        "features = 100000\n",
        "\n",
        "tf_vectorizer = CountVectorizer(max_df=0.95, min_df=2,\n",
        "                                max_features=100000,\n",
        "                                stop_words=stopWords)\n",
        "\n",
        "tf = tf_vectorizer.fit_transform(df['text'])\n",
        "\n",
        "tf_feature_names = tf_vectorizer.get_feature_names()"
      ],
      "execution_count": 11,
      "outputs": [
        {
          "output_type": "stream",
          "text": [
            "CPU times: user 1min 24s, sys: 1.59 s, total: 1min 26s\n",
            "Wall time: 1min 26s\n"
          ],
          "name": "stdout"
        }
      ]
    },
    {
      "cell_type": "markdown",
      "metadata": {
        "id": "DzpMTFCcqOkk",
        "colab_type": "text"
      },
      "source": [
        "50 тем оказалось вполне достаточным. 100 было слишком много, были очень похожие топики"
      ]
    },
    {
      "cell_type": "code",
      "metadata": {
        "id": "GuXHnh4QfJ0n",
        "colab_type": "code",
        "colab": {}
      },
      "source": [
        "from sklearn.decomposition import LatentDirichletAllocation\n",
        "n_components = 50\n",
        "lda = LatentDirichletAllocation(n_components=n_components, max_iter=1,\n",
        "                                learning_method='online', random_state=17,\n",
        "                                verbose=True, n_jobs=-1)"
      ],
      "execution_count": 0,
      "outputs": []
    },
    {
      "cell_type": "code",
      "metadata": {
        "id": "tTEUR1jhfzS_",
        "colab_type": "code",
        "colab": {}
      },
      "source": [
        "lda.fit(tf)"
      ],
      "execution_count": 0,
      "outputs": []
    },
    {
      "cell_type": "code",
      "metadata": {
        "id": "AmUa4pnnAg0f",
        "colab_type": "code",
        "colab": {}
      },
      "source": [
        "pkl_filename = \"/gdrive/My Drive/ITMO/pickle_model.pkl\"\n",
        "with open(pkl_filename, 'wb') as file:\n",
        "    pickle.dump(lda, file)"
      ],
      "execution_count": 0,
      "outputs": []
    },
    {
      "cell_type": "code",
      "metadata": {
        "id": "0VGJdaYIgMuI",
        "colab_type": "code",
        "colab": {}
      },
      "source": [
        "def top_words(model, feature_names, n_top_words):\n",
        "  l = []\n",
        "  for topic in lda.components_:\n",
        "    topic_tokens = \" \".join([feature_names[i]\n",
        "                             for i in topic.argsort()[:-n_top_words - 1:-1]])\n",
        "    l.append(topic_tokens)\n",
        "  return pd.Series(data=l, name='topic_tokens')"
      ],
      "execution_count": 0,
      "outputs": []
    },
    {
      "cell_type": "code",
      "metadata": {
        "id": "sNOt4ue_yycp",
        "colab_type": "code",
        "colab": {}
      },
      "source": [
        "topics_to_tokens = top_words(lda, tf_feature_names, 5)"
      ],
      "execution_count": 0,
      "outputs": []
    },
    {
      "cell_type": "code",
      "metadata": {
        "id": "_YodhrrcB4kt",
        "colab_type": "code",
        "colab": {
          "base_uri": "https://localhost:8080/",
          "height": 204
        },
        "outputId": "d60f740c-0c26-4dfe-c560-a9bfb46885a3"
      },
      "source": [
        "topics_to_tokens[:10]"
      ],
      "execution_count": 112,
      "outputs": [
        {
          "output_type": "execute_result",
          "data": {
            "text/plain": [
              "0    серия порядке сегодня сезон сериал     \n",
              "1    любовь любить сердце люди знаешь       \n",
              "2    людей люди хочется жизни умеешь        \n",
              "3    жизнь жизни человека люди людей        \n",
              "4    минут масло воды затем масла           \n",
              "5    окружающим людей уважение людям следует\n",
              "6    бизнес страница теги como сайт         \n",
              "7    лишь свет руки любви детей             \n",
              "8    женщина говорит мужчина муж сказала    \n",
              "9    репост выбираем авы группу рандомно    \n",
              "Name: topic_tokens, dtype: object"
            ]
          },
          "metadata": {
            "tags": []
          },
          "execution_count": 112
        }
      ]
    },
    {
      "cell_type": "markdown",
      "metadata": {
        "id": "p5QUjqoptbI2",
        "colab_type": "text"
      },
      "source": [
        "### Тестирование"
      ]
    },
    {
      "cell_type": "code",
      "metadata": {
        "id": "BzPmpVgFtzGZ",
        "colab_type": "code",
        "colab": {
          "base_uri": "https://localhost:8080/",
          "height": 51
        },
        "outputId": "ef9595fd-cf7a-435e-ce0d-1f5ad1f65029"
      },
      "source": [
        "%%time\n",
        "test_tf = tf_vectorizer.transform(test_df['text'])\n",
        "ans = lda.transform(test_tf)"
      ],
      "execution_count": 49,
      "outputs": [
        {
          "output_type": "stream",
          "text": [
            "CPU times: user 10.3 s, sys: 117 ms, total: 10.4 s\n",
            "Wall time: 10.4 s\n"
          ],
          "name": "stdout"
        }
      ]
    },
    {
      "cell_type": "code",
      "metadata": {
        "id": "KDxZjbtIn9Sd",
        "colab_type": "code",
        "colab": {}
      },
      "source": [
        "test_df['label'] = np.argmax(ans, axis=1)"
      ],
      "execution_count": 0,
      "outputs": []
    },
    {
      "cell_type": "markdown",
      "metadata": {
        "id": "eiBEWYHArB2J",
        "colab_type": "text"
      },
      "source": [
        "Сохраним топик для каждого документа и популярные слова для каждого топика"
      ]
    },
    {
      "cell_type": "code",
      "metadata": {
        "id": "q5reaS3Msaap",
        "colab_type": "code",
        "colab": {}
      },
      "source": [
        "test_df.to_csv('/gdrive/My Drive/ITMO/labels.csv', columns=['label'], index=True)\n",
        "topics_to_tokens.to_csv('/gdrive/My Drive/ITMO/topics_tokens.csv', \n",
        "                        index_label='topic_id', header=True)"
      ],
      "execution_count": 0,
      "outputs": []
    },
    {
      "cell_type": "markdown",
      "metadata": {
        "id": "8hwSek-eznpk",
        "colab_type": "text"
      },
      "source": [
        "### Оценка"
      ]
    },
    {
      "cell_type": "markdown",
      "metadata": {
        "colab_type": "text",
        "id": "JnINardHJwWm"
      },
      "source": [
        "#### Количественная метрика"
      ]
    },
    {
      "cell_type": "markdown",
      "metadata": {
        "id": "e0su72tHNvpb",
        "colab_type": "text"
      },
      "source": [
        "Для количественной оценки LDA можно воспользоваться [perplexity](http://qpleple.com/perplexity-to-evaluate-topic-models/). Perplexity - это показатель того, насколько хорошо вероятностная модель прогнозирует выборку"
      ]
    },
    {
      "cell_type": "code",
      "metadata": {
        "id": "KlN41hOkAdgG",
        "colab_type": "code",
        "colab": {
          "base_uri": "https://localhost:8080/",
          "height": 34
        },
        "outputId": "0856b162-078c-4e50-87f2-405d34f649ec"
      },
      "source": [
        "lda.perplexity(test_tf)"
      ],
      "execution_count": 31,
      "outputs": [
        {
          "output_type": "execute_result",
          "data": {
            "text/plain": [
              "31362.778725074197"
            ]
          },
          "metadata": {
            "tags": []
          },
          "execution_count": 31
        }
      ]
    },
    {
      "cell_type": "markdown",
      "metadata": {
        "id": "sUwFLkJhS7VA",
        "colab_type": "text"
      },
      "source": [
        "Данное знанчение довольно большое. Стоит попробовать разное количество топиков и посмотреть на их значение perplexity. В связи с этим получится подобрать оптимальное количество топиков"
      ]
    },
    {
      "cell_type": "markdown",
      "metadata": {
        "id": "nSkHasxl0bua",
        "colab_type": "text"
      },
      "source": [
        "#### Качественная оценка (проверяя кластеры вручную)"
      ]
    },
    {
      "cell_type": "code",
      "metadata": {
        "id": "DsePlGmx0nuP",
        "colab_type": "code",
        "colab": {
          "base_uri": "https://localhost:8080/",
          "height": 771
        },
        "outputId": "0b44e92e-af34-4103-9e91-df1dbac15baf"
      },
      "source": [
        "test_df['label_tokens'] = test_df['label'].apply(lambda el: topics_to_tokens[el])\n",
        "test_df.head(2)"
      ],
      "execution_count": 86,
      "outputs": [
        {
          "output_type": "execute_result",
          "data": {
            "text/html": [
              "<div>\n",
              "<style scoped>\n",
              "    .dataframe tbody tr th:only-of-type {\n",
              "        vertical-align: middle;\n",
              "    }\n",
              "\n",
              "    .dataframe tbody tr th {\n",
              "        vertical-align: top;\n",
              "    }\n",
              "\n",
              "    .dataframe thead th {\n",
              "        text-align: right;\n",
              "    }\n",
              "</style>\n",
              "<table border=\"1\" class=\"dataframe\">\n",
              "  <thead>\n",
              "    <tr style=\"text-align: right;\">\n",
              "      <th></th>\n",
              "      <th>text</th>\n",
              "      <th>label</th>\n",
              "      <th>label_tokens</th>\n",
              "    </tr>\n",
              "    <tr>\n",
              "      <th>doc_id</th>\n",
              "      <th></th>\n",
              "      <th></th>\n",
              "      <th></th>\n",
              "    </tr>\n",
              "  </thead>\n",
              "  <tbody>\n",
              "    <tr>\n",
              "      <th>0</th>\n",
              "      <td>разнорабочий шеин примем работу разнорабочего универсальной работы складе строительных материвлов требования ответственность дисциплинированность трудолюбие обязанности выполнять погрузо разгрузочные работы совершать работу распаковке упаковке товара размещать товар складе условия график работы стабильные выплаты день предоставление рабочей формы отапливаемый склад оформление прямой работодатель писать звонить номеру работодатель шеин требуется расклейщик объявлений вопросы тел требуются рабочие установке счётчиков строительную фирму первый день научат установке сдельная оплата труда стоимость установки счётчика плановая норма выполнения работы счётчиков день рабочих работа городе липецке график работы дней липецке дня выходных привозят воронеж липецке снимают квартиру узнать подробнее телефону ищем сотрудника должность разнорабочий склад плата требования ответственность порядочность исполнительность опыт работы обязателен образование имеет значения обязанности погрузочно разгрузочные работы комплектация заказов размещение складе подготовка отгрузке доставки клиентам оформление необходимой документации отчетности актов приема товара товарно транспортных накладных внутренняя отчетность условия оформление работа центре города график присутствует корпоративное жильё сотрудников тел ооо армада преуспевающую компанию требуются энергичные целеустремленные активные сотрудники компания занимается арендой жилой недвижимости вакантное место менеджер работе клиентами молодой коллектив хорошие условия работы стабильный доход рублей месяц официальное трудоустройство согласно рабочие командировки города расположены филиалы компании хорошая бонусная система многое другое график работы возможностью плавающих выходных карьерный рост обучение тренинги получение нового опыта знаний сфере записи собеседование звонить тел срочно требуется магазин красное amp белое пеше стрелецкая специалист опп опыта работы руб график работы продавец опыта работы руб график работы контакты работа вахтовым методом воронеж требуются токаря обязанности токарная обработка металла станках требования опыт работы разряд условия вахта предоставление жилья оплата почасовая компенсация проезда оформление официальное дневная рабочая неделя часов контактное лицо наталья срочно оздоровительный центр требуются операторы телефон неполный рабочий день утренние вечерние смены офис центре города вопросы телефону кристина mybox срочно подработка требуются операторы телефон грффик работы сменный звонить номеру требуется продавец кассир магазин дома бристоль адресу шишкова зарплата белая рублей график дружный коллектив срочно звонить телефону</td>\n",
              "      <td>27</td>\n",
              "      <td>работы работа зарплата требуется работу</td>\n",
              "    </tr>\n",
              "    <tr>\n",
              "      <th>1</th>\n",
              "      <td>ၾကည ၾသဂ ၾကည ပစၥည ၾကည သတင unicode version သတင present meeting commander chief navy admiral tin aung san senior military officers office commander chief army commander north west command maj gen phone myat officers ranks families factory workers seikphyu station speech senior general said weapon modernization programmes underway transforming tatmadaw standard army knowledge promotion entire tatmadaw carried tatmadaw members capability handle advanced weapons tatmadaw members army navy air undergo training skilled using troop wise weapons food shelter needs tatmadaw members properly fulfi lled persons hour duty education promotion campaigns carried tatmadawmen wives outstanding students honoured duly medics assigned provide healthcare tatmadaw members families seriousness based service years promotions given tatmadaw members clear wrongdoings war veteran housings built retired military officers andother ranks allotted based budget funds war veteran housings built allotted tatmadaw owned agricultural livestock farms established respective units headquarters welfare tatmadawmen families fruits vegetables fish eggs meat produced farms distributed reduced prices tatmadawmen families need live discipline resolve difficulties requirements reporting respective officers accord discipline moreover tatmadawmen need serve duties showing respect live family spirit administrative officers act commandership spirit fatherly spirit need fair square fair command tradition tatmadaw dutiful performances individuals efforts made improve whole units entire tatmadaw tatmadaw part country tatmadawmen part tatmadaw representing country safeguard public state stressed need always strive tatmadaw state rely meeting senior general commander chief navy presented foodstuff officials senior general party cordially greeted officers ranks families workers factory afterwards senior general party arrived tatmadaw heavy industry morning welcomed commander central command brig gen kyaw swa lin officials meeting room factory factory manager reported senior general manufacturing automobiles related parts senior general fulfilled requirements giving necessaryinstructions senior general party inspected assembling manufacturing automobiles workshops industry officials conducted round production process meeting workers factory senior general urged try best production accepting concept important industry tatmadaw state attending needs senior general presented foodstuff အတက သတင unicode version အတက သတင</td>\n",
              "      <td>11</td>\n",
              "      <td>реж amp год художник love</td>\n",
              "    </tr>\n",
              "  </tbody>\n",
              "</table>\n",
              "</div>"
            ],
            "text/plain": [
              "                                                                                                                                                                                                                                                                                                                                                                                                                                                                                                                                                                                                                                                                                                                                                                                                                                                                                                                                                                                                                                                                                                                                                                                                                                                                                                                                                                                                                                                                                                                                                                                                                                                                                                                                                                                                                                                                                                                                                                                                                                                                                                                                                                                                                                                                                                                                                                                                                                                                                                                                                                                                                                                                                                                                           text  ...                             label_tokens\n",
              "doc_id                                                                                                                                                                                                                                                                                                                                                                                                                                                                                                                                                                                                                                                                                                                                                                                                                                                                                                                                                                                                                                                                                                                                                                                                                                                                                                                                                                                                                                                                                                                                                                                                                                                                                                                                                                                                                                                                                                                                                                                                                                                                                                                                                                                                                                                                                                                                                                                                                                                                                                                                                                                                                                                                                                                                           ...                                         \n",
              "0       разнорабочий шеин примем работу разнорабочего универсальной работы складе строительных материвлов требования ответственность дисциплинированность трудолюбие обязанности выполнять погрузо разгрузочные работы совершать работу распаковке упаковке товара размещать товар складе условия график работы стабильные выплаты день предоставление рабочей формы отапливаемый склад оформление прямой работодатель писать звонить номеру работодатель шеин требуется расклейщик объявлений вопросы тел требуются рабочие установке счётчиков строительную фирму первый день научат установке сдельная оплата труда стоимость установки счётчика плановая норма выполнения работы счётчиков день рабочих работа городе липецке график работы дней липецке дня выходных привозят воронеж липецке снимают квартиру узнать подробнее телефону ищем сотрудника должность разнорабочий склад плата требования ответственность порядочность исполнительность опыт работы обязателен образование имеет значения обязанности погрузочно разгрузочные работы комплектация заказов размещение складе подготовка отгрузке доставки клиентам оформление необходимой документации отчетности актов приема товара товарно транспортных накладных внутренняя отчетность условия оформление работа центре города график присутствует корпоративное жильё сотрудников тел ооо армада преуспевающую компанию требуются энергичные целеустремленные активные сотрудники компания занимается арендой жилой недвижимости вакантное место менеджер работе клиентами молодой коллектив хорошие условия работы стабильный доход рублей месяц официальное трудоустройство согласно рабочие командировки города расположены филиалы компании хорошая бонусная система многое другое график работы возможностью плавающих выходных карьерный рост обучение тренинги получение нового опыта знаний сфере записи собеседование звонить тел срочно требуется магазин красное amp белое пеше стрелецкая специалист опп опыта работы руб график работы продавец опыта работы руб график работы контакты работа вахтовым методом воронеж требуются токаря обязанности токарная обработка металла станках требования опыт работы разряд условия вахта предоставление жилья оплата почасовая компенсация проезда оформление официальное дневная рабочая неделя часов контактное лицо наталья срочно оздоровительный центр требуются операторы телефон неполный рабочий день утренние вечерние смены офис центре города вопросы телефону кристина mybox срочно подработка требуются операторы телефон грффик работы сменный звонить номеру требуется продавец кассир магазин дома бристоль адресу шишкова зарплата белая рублей график дружный коллектив срочно звонить телефону  ...  работы работа зарплата требуется работу\n",
              "1       ၾကည ၾသဂ ၾကည ပစၥည ၾကည သတင unicode version သတင present meeting commander chief navy admiral tin aung san senior military officers office commander chief army commander north west command maj gen phone myat officers ranks families factory workers seikphyu station speech senior general said weapon modernization programmes underway transforming tatmadaw standard army knowledge promotion entire tatmadaw carried tatmadaw members capability handle advanced weapons tatmadaw members army navy air undergo training skilled using troop wise weapons food shelter needs tatmadaw members properly fulfi lled persons hour duty education promotion campaigns carried tatmadawmen wives outstanding students honoured duly medics assigned provide healthcare tatmadaw members families seriousness based service years promotions given tatmadaw members clear wrongdoings war veteran housings built retired military officers andother ranks allotted based budget funds war veteran housings built allotted tatmadaw owned agricultural livestock farms established respective units headquarters welfare tatmadawmen families fruits vegetables fish eggs meat produced farms distributed reduced prices tatmadawmen families need live discipline resolve difficulties requirements reporting respective officers accord discipline moreover tatmadawmen need serve duties showing respect live family spirit administrative officers act commandership spirit fatherly spirit need fair square fair command tradition tatmadaw dutiful performances individuals efforts made improve whole units entire tatmadaw tatmadaw part country tatmadawmen part tatmadaw representing country safeguard public state stressed need always strive tatmadaw state rely meeting senior general commander chief navy presented foodstuff officials senior general party cordially greeted officers ranks families workers factory afterwards senior general party arrived tatmadaw heavy industry morning welcomed commander central command brig gen kyaw swa lin officials meeting room factory factory manager reported senior general manufacturing automobiles related parts senior general fulfilled requirements giving necessaryinstructions senior general party inspected assembling manufacturing automobiles workshops industry officials conducted round production process meeting workers factory senior general urged try best production accepting concept important industry tatmadaw state attending needs senior general presented foodstuff အတက သတင unicode version အတက သတင                                                                                                                                      ...  реж amp год художник love              \n",
              "\n",
              "[2 rows x 3 columns]"
            ]
          },
          "metadata": {
            "tags": []
          },
          "execution_count": 86
        }
      ]
    },
    {
      "cell_type": "markdown",
      "metadata": {
        "id": "nfsp6HaB1yA0",
        "colab_type": "text"
      },
      "source": [
        "Как видно, второй пример был плохо \"кластеризован\". Но данный текст вообще на другом языке, возможно, CountVectorizer просто проигнорировал некоторые слова этого документа (из-за min_df=2), так как слов из данного документа нет в других документах."
      ]
    },
    {
      "cell_type": "code",
      "metadata": {
        "id": "ZKU0X1SA2xJd",
        "colab_type": "code",
        "colab": {
          "base_uri": "https://localhost:8080/",
          "height": 34
        },
        "outputId": "7c1e9772-261c-4850-9c68-3e6153749b48"
      },
      "source": [
        "s = set(tf_feature_names)\n",
        "print(sum([word in s for word in test_df.loc[1, 'text'].split(' ')]), \n",
        "      'words of', len(test_df.loc[1, 'text'].split(' ')), \n",
        "      'in Count Vectorizer')"
      ],
      "execution_count": 103,
      "outputs": [
        {
          "output_type": "stream",
          "text": [
            "122 words of 315 in Count Vectorizer\n"
          ],
          "name": "stdout"
        }
      ]
    },
    {
      "cell_type": "markdown",
      "metadata": {
        "id": "qdBqfSCW4Bh8",
        "colab_type": "text"
      },
      "source": [
        "Так и оказалось, почти треть слов не учитывается. Посмотрим на последние 2 документа"
      ]
    },
    {
      "cell_type": "code",
      "metadata": {
        "id": "MPg9_rQ84Jas",
        "colab_type": "code",
        "colab": {
          "base_uri": "https://localhost:8080/",
          "height": 1000
        },
        "outputId": "627f58c7-a79f-47e3-b09b-e11c8ba15cac"
      },
      "source": [
        "test_df.tail(2)"
      ],
      "execution_count": 95,
      "outputs": [
        {
          "output_type": "execute_result",
          "data": {
            "text/html": [
              "<div>\n",
              "<style scoped>\n",
              "    .dataframe tbody tr th:only-of-type {\n",
              "        vertical-align: middle;\n",
              "    }\n",
              "\n",
              "    .dataframe tbody tr th {\n",
              "        vertical-align: top;\n",
              "    }\n",
              "\n",
              "    .dataframe thead th {\n",
              "        text-align: right;\n",
              "    }\n",
              "</style>\n",
              "<table border=\"1\" class=\"dataframe\">\n",
              "  <thead>\n",
              "    <tr style=\"text-align: right;\">\n",
              "      <th></th>\n",
              "      <th>text</th>\n",
              "      <th>label</th>\n",
              "      <th>label_tokens</th>\n",
              "    </tr>\n",
              "    <tr>\n",
              "      <th>doc_id</th>\n",
              "      <th></th>\n",
              "      <th></th>\n",
              "      <th></th>\n",
              "    </tr>\n",
              "  </thead>\n",
              "  <tbody>\n",
              "    <tr>\n",
              "      <th>8098</th>\n",
              "      <td>ибо иудеи требуют чудес еллины ищут мудрости проповедуем христа распятого иудеев соблазн еллинов безумие призванных иудеев еллинов христа божию силу божию премудрость кор пойдут многие народы скажут придите взойдем гору господню дом бога иаковлева научит путям ходить стезям ибо сиона выйдет закон слово господне иерусалима судить народы обличит многие племена перекуют мечи орала копья серпы поднимет народ народ меча учиться воевать дом иакова придите ходить свете господнем отринул народ дом иакова многое переняли востока чародеи филистимлян сынами чужих общении наполнилась земля серебром золотом числа сокровищам наполнилась земля конями числа колесницам наполнилась земля идолами поклоняются делу рук сделали персты преклонился унизился муж простишь иди скалу сокройся землю страха господа славы величия поникнут гордые взгляды человека высокое людское унизится господь высок день книга пророка исайи глава языческие обычаи начавшиеся волхвованиями усилившиеся сребролюбия привязанности коням довели идолослужения оттого хотели просить советов бога стали внимать волхвованиям оттого надеялись множество коней ложь спасение могущего сокрушить брани естественным образом дошли земля наполнилась мерзостей посему всякий поступок противный здравому разуму мерзость пред богом слабые желудком склонные позыву рвоту терпят гнусных зрелищ например извержения излишеств зловонных струпов подобного дела нечистоты мерзость святому поскольку собственном смысле идолов писание называет мерзостью всякие негодные представления наподобие живописных картин напечатлеваемые душе суть мерзости наполняющие страну область разумной части душе поклонишася яже сотвориша персты верх безумия признавать богом сделал видеть нелепости дела дивишься веществу почему кланяешься необработанной меди камню дивишься причине искусства кланяйся рукам дали веществу образ орудиям обделывал преклонися смирися муж думаю пророк сказал сие сожаления терпя людях унижения достоинства говорит преклонися поклонения идолу досточестивейший животных земных вчиненный разумными существами почтенный ангелов образом божиим силой ума изобретший искусства познал земное силы растений корней плодов убоялся моря изучил естество воздуха происхождение ветров положение звезд движения расстояния времена соединений устройство примечаемое земле общество законы ратное дело искусства необходимые жизни служащие украшению напоказ повергся идолом требует спасения одушевленный бездушного разумный бесчувственного подручны звери подчинены служения бессловесные твари покорившим богом даровал образ состоящий господствовать животными живущими воде суше каким бессловесным превосходящим силой подобием бессловесных животных безобразной жены гнусного мужчины смеет стать наравне страхом склоняется пред земле недостойный воззреть небо грех против неба святитель василий великий толкование книгу пророка исайи начал терпеливо довели конца дабы страдаем угрожали злословят злословили взаимно благословляли проклинающих предавали богу судящему праведно ибо именно восприимут помысл образец почитать евангелие сообщниками христа подражателями жития апостола святитель афанасий александрийский второе праздничное послание каждый оправданных верой освященных духом сделался священным даром богу каждый обязан христу жизнью ибо сказал божественный павел куплены ценою принадлежим умер живущие жили умершего воскресшего приобрел бога отца цену какую уплатив собственную кровь итак приходим спасителю христу чрез веру освящение воздаяние соделанное принося дар благочестивую жизнь святитель кирилл александрийский поклонении служении духе истине</td>\n",
              "      <td>46</td>\n",
              "      <td>бог бога имя сказал господь</td>\n",
              "    </tr>\n",
              "    <tr>\n",
              "      <th>8099</th>\n",
              "      <td>симпатичные законы почему идеальное тело спокойной ночи накачать мышцы навсего увеличить силу стало основополагающей теорией бодибилдинга делать сила хочет расти принимать стероиды желания здоровья помощь атлету приходят натуральные добавки увеличения силы помогли тысячам людей гарантировано увеличат твои мышечные объемы бета аланин аминокислота используется организмом веществ синтеза глюкозы организме является топливом мышц нервной системы головного мозга бета аланин принципе совершенно участвует росте мышц стать отличным подспорьем увеличении силы аминокислота участвует производстве аминокислоты карнозина синтезируется бета аланина гистидина значительно увеличивает силу сокращения мышц значит силу учеными проведен эксперимент меню спортсменов включен бета аланин увеличили показатели силы рекордные дозировка грамма бета аланина вместе протеиновым коктейлем тренировки недели сократить прием грамм кофеин известен пожалуй пьем хочется спать устали некоторые зависят является психоактивным веществом начале прошлого века боксеры выступлением принимали кофеин увеличить концентрацию реакцию силу принимаем походом тренажерный зал эффект увеличения силы кофеина доказан подтвержден учеными утверждают сможете стать сильнее примите тренировки совершенно неплохой результат согласитесь дозировка спортивные эксперты рекомендуют принимать миллиграмма кофеина килограмм тела атлета полчаса тренировки накачать мышцы навсего увеличить силу стало основополагающей теорией бодибилдинга делать сила хочет расти принимать стероиды желания здоровья помощь атлету приходят натуральные добавки увеличения силы помогли тысячам людей гарантировано увеличат твои мышечные объемы бетаин вещество впервые выделенное свеклы исключительно полезное увеличения силы спорте бетаин применяли уменьшить эффект стероидов организм недавние исследования показали помимо защиты печени бетаин усиливает выделение креатина содержит компонентов метионин прием бетаина гарантированно увеличивает взрывную силу выносливость дозировка бетаина белковым коктейлем тренировки протяжении недели креатин вещество вырабатываемое организмом самостоятельно принимаемое виде порошка капсул увеличивает взрывную силу мышц говорили креатине статье кратко описать действие креатин является своеобразным топливом мышц накапливается активно используется приходите зал выносливее сильнее становится атлет главное переусердствовать дозировка первая неделя загрузочная креатина день каждым приемом пищи вторая неделя поддерживающая день аргинин аминокислота используется увеличения объема мышц силы достаточно часто атлеты испытывают нехватку аргинина крови отвечает множество процессов связанных тренировками например бетаин участвует синтезе креатина отвечает выработку окиси азота прием аминокислоты форме аргинина кетоглютората акг эффективным подспорьем хочет накачать мышцы увеличить силу дозировка грамма аргинина акг раза день голодный желудок приведи форму час неделю года назад сразу выхода экраны фильма спартанцев сертифицированный тренер член экспертного совета американского men health крейг бэллэнтайн опубликовал революционную тренировочную программу тренировка состояла упражнений делать подряд отдыха повторов каждом отсюда название программа классная говорить проблема лишь скажем пожать кряду штангу груди силу далеко каждому иметь кубиков животе иметь грамма лишнего жира кожей хочется многим общем году крейг разродился новой программой сути полноценная тренировка повторов упражнений понадобятся съемный турник фитбол табуретка программа развивает выносливость сжигает жир улучшает мышечный рельеф главное занимает минут минус лишь новичков подходит указания тренируйся описанной ниже схеме трижды неделю понедельник среду пятницу например стремись выполнять упражнения подряд отдыха справиться начни половины повторов лишь твоей целью схема тренировки приседаний заключенного отжиманий пола зашагиваний платформу каждой ногой подтягиваний широким хватом выпрыгиваний сгибаний голени фитболе группировок фитболе динамических выпадов каждой ногой отжиманий узким положением ладоней подтягиваний низкой перекладине приседаний заключенного подтягиваний обратным хватом источник чаще травмируются связки коленного сустава сустава стопы разрыве слышен характерный звук щелчок коленном суставе правило разрывается крестообразные латеральные связки разрыв сопровождаться повреждением мениска резкой сильной болью разрыв крестообразной связки рассмотреть примере выдвижного ящика сгибании ноги колене происходит смещение голени вперед назад случае неправильном движении произойти разрыв внутренней связки внешней вращательном движении разорваться обе общими симптомами разрыва связки сильная боль сустава припухлость ненормальное анатомическое положение лечение разрыва связок происходить следующей схеме принять обезболивающий препарат наложить давящую повязку следует наложить компресс изо льда немедленная госпитализация целью определения сложности разрыва связок необходимо сделать рентген артроскопияю метод точного обследования суставов связка оторваться вместе костным фрагментом диагностическое обследование проводится любом случае госпитализация обязательна разрывах связок практически случаях необходима операция операции необходимо длительное восстановления сустава мышечного тонуса обеспечение подвижности используют соответствующее медикаментозное лечение поддерживающие повязки разрабатывается необходимый курс физических упражнений нагрузок рекомендации врача необходимо выполнять строго неукоснительно противном случае возникнут осложнения связки потерять функцию направлять сустав нужную сторону разрыв связок первая помощь важно сразу разрыва связок снять отёчность первой возможности наложить фиксирующую повязку</td>\n",
              "      <td>28</td>\n",
              "      <td>необходимо например случае поэтому времени</td>\n",
              "    </tr>\n",
              "  </tbody>\n",
              "</table>\n",
              "</div>"
            ],
            "text/plain": [
              "                                                                                                                                                                                                                                                                                                                                                                                                                                                                                                                                                                                                                                                                                                                                                                                                                                                                                                                                                                                                                                                                                                                                                                                                                                                                                                                                                                                                                                                                                                                                                                                                                                                                                                                                                                                                                                                                                                                                                                                                                                                                                                                                                                                                                                                                                                                                                                                                                                                                                                                                                                                                                                                                                                                                                                                                                                                                                                                                                                                                                                                                                                                                                                                                                                                                                                                                                                                                                                                                                                                                                                                                                                                                                                                                                                                                                                                                                                                                                                                                                                                                                                                                                                                                                                                                                                                                                                                                                                                                                                                                                                                                                                                                                                                                                                                                                                                                                                                                                                                                                                                                                                                                                                                                                                                                                                                                                                                                                                                                                                                                                                                                                                                                                                                                                                                                                                                                                                                                            text  ...                                label_tokens\n",
              "doc_id                                                                                                                                                                                                                                                                                                                                                                                                                                                                                                                                                                                                                                                                                                                                                                                                                                                                                                                                                                                                                                                                                                                                                                                                                                                                                                                                                                                                                                                                                                                                                                                                                                                                                                                                                                                                                                                                                                                                                                                                                                                                                                                                                                                                                                                                                                                                                                                                                                                                                                                                                                                                                                                                                                                                                                                                                                                                                                                                                                                                                                                                                                                                                                                                                                                                                                                                                                                                                                                                                                                                                                                                                                                                                                                                                                                                                                                                                                                                                                                                                                                                                                                                                                                                                                                                                                                                                                                                                                                                                                                                                                                                                                                                                                                                                                                                                                                                                                                                                                                                                                                                                                                                                                                                                                                                                                                                                                                                                                                                                                                                                                                                                                                                                                                                                                                                                                                                                                                                            ...                                            \n",
              "8098    ибо иудеи требуют чудес еллины ищут мудрости проповедуем христа распятого иудеев соблазн еллинов безумие призванных иудеев еллинов христа божию силу божию премудрость кор пойдут многие народы скажут придите взойдем гору господню дом бога иаковлева научит путям ходить стезям ибо сиона выйдет закон слово господне иерусалима судить народы обличит многие племена перекуют мечи орала копья серпы поднимет народ народ меча учиться воевать дом иакова придите ходить свете господнем отринул народ дом иакова многое переняли востока чародеи филистимлян сынами чужих общении наполнилась земля серебром золотом числа сокровищам наполнилась земля конями числа колесницам наполнилась земля идолами поклоняются делу рук сделали персты преклонился унизился муж простишь иди скалу сокройся землю страха господа славы величия поникнут гордые взгляды человека высокое людское унизится господь высок день книга пророка исайи глава языческие обычаи начавшиеся волхвованиями усилившиеся сребролюбия привязанности коням довели идолослужения оттого хотели просить советов бога стали внимать волхвованиям оттого надеялись множество коней ложь спасение могущего сокрушить брани естественным образом дошли земля наполнилась мерзостей посему всякий поступок противный здравому разуму мерзость пред богом слабые желудком склонные позыву рвоту терпят гнусных зрелищ например извержения излишеств зловонных струпов подобного дела нечистоты мерзость святому поскольку собственном смысле идолов писание называет мерзостью всякие негодные представления наподобие живописных картин напечатлеваемые душе суть мерзости наполняющие страну область разумной части душе поклонишася яже сотвориша персты верх безумия признавать богом сделал видеть нелепости дела дивишься веществу почему кланяешься необработанной меди камню дивишься причине искусства кланяйся рукам дали веществу образ орудиям обделывал преклонися смирися муж думаю пророк сказал сие сожаления терпя людях унижения достоинства говорит преклонися поклонения идолу досточестивейший животных земных вчиненный разумными существами почтенный ангелов образом божиим силой ума изобретший искусства познал земное силы растений корней плодов убоялся моря изучил естество воздуха происхождение ветров положение звезд движения расстояния времена соединений устройство примечаемое земле общество законы ратное дело искусства необходимые жизни служащие украшению напоказ повергся идолом требует спасения одушевленный бездушного разумный бесчувственного подручны звери подчинены служения бессловесные твари покорившим богом даровал образ состоящий господствовать животными живущими воде суше каким бессловесным превосходящим силой подобием бессловесных животных безобразной жены гнусного мужчины смеет стать наравне страхом склоняется пред земле недостойный воззреть небо грех против неба святитель василий великий толкование книгу пророка исайи начал терпеливо довели конца дабы страдаем угрожали злословят злословили взаимно благословляли проклинающих предавали богу судящему праведно ибо именно восприимут помысл образец почитать евангелие сообщниками христа подражателями жития апостола святитель афанасий александрийский второе праздничное послание каждый оправданных верой освященных духом сделался священным даром богу каждый обязан христу жизнью ибо сказал божественный павел куплены ценою принадлежим умер живущие жили умершего воскресшего приобрел бога отца цену какую уплатив собственную кровь итак приходим спасителю христу чрез веру освящение воздаяние соделанное принося дар благочестивую жизнь святитель кирилл александрийский поклонении служении духе истине                                                                                                                                                                                                                                                                                                                                                                                                                                                                                                                                                                                                                                                                                                                                                                                                                                                                                                                                                                                                                                                                                                                                                                                                                                                                                                                                                                                                                                                                                                                                                                                                                                                                                                                                                                                                                                                                                                                                                                                                                                                                                                                                                                                                      ...  бог бога имя сказал господь               \n",
              "8099    симпатичные законы почему идеальное тело спокойной ночи накачать мышцы навсего увеличить силу стало основополагающей теорией бодибилдинга делать сила хочет расти принимать стероиды желания здоровья помощь атлету приходят натуральные добавки увеличения силы помогли тысячам людей гарантировано увеличат твои мышечные объемы бета аланин аминокислота используется организмом веществ синтеза глюкозы организме является топливом мышц нервной системы головного мозга бета аланин принципе совершенно участвует росте мышц стать отличным подспорьем увеличении силы аминокислота участвует производстве аминокислоты карнозина синтезируется бета аланина гистидина значительно увеличивает силу сокращения мышц значит силу учеными проведен эксперимент меню спортсменов включен бета аланин увеличили показатели силы рекордные дозировка грамма бета аланина вместе протеиновым коктейлем тренировки недели сократить прием грамм кофеин известен пожалуй пьем хочется спать устали некоторые зависят является психоактивным веществом начале прошлого века боксеры выступлением принимали кофеин увеличить концентрацию реакцию силу принимаем походом тренажерный зал эффект увеличения силы кофеина доказан подтвержден учеными утверждают сможете стать сильнее примите тренировки совершенно неплохой результат согласитесь дозировка спортивные эксперты рекомендуют принимать миллиграмма кофеина килограмм тела атлета полчаса тренировки накачать мышцы навсего увеличить силу стало основополагающей теорией бодибилдинга делать сила хочет расти принимать стероиды желания здоровья помощь атлету приходят натуральные добавки увеличения силы помогли тысячам людей гарантировано увеличат твои мышечные объемы бетаин вещество впервые выделенное свеклы исключительно полезное увеличения силы спорте бетаин применяли уменьшить эффект стероидов организм недавние исследования показали помимо защиты печени бетаин усиливает выделение креатина содержит компонентов метионин прием бетаина гарантированно увеличивает взрывную силу выносливость дозировка бетаина белковым коктейлем тренировки протяжении недели креатин вещество вырабатываемое организмом самостоятельно принимаемое виде порошка капсул увеличивает взрывную силу мышц говорили креатине статье кратко описать действие креатин является своеобразным топливом мышц накапливается активно используется приходите зал выносливее сильнее становится атлет главное переусердствовать дозировка первая неделя загрузочная креатина день каждым приемом пищи вторая неделя поддерживающая день аргинин аминокислота используется увеличения объема мышц силы достаточно часто атлеты испытывают нехватку аргинина крови отвечает множество процессов связанных тренировками например бетаин участвует синтезе креатина отвечает выработку окиси азота прием аминокислоты форме аргинина кетоглютората акг эффективным подспорьем хочет накачать мышцы увеличить силу дозировка грамма аргинина акг раза день голодный желудок приведи форму час неделю года назад сразу выхода экраны фильма спартанцев сертифицированный тренер член экспертного совета американского men health крейг бэллэнтайн опубликовал революционную тренировочную программу тренировка состояла упражнений делать подряд отдыха повторов каждом отсюда название программа классная говорить проблема лишь скажем пожать кряду штангу груди силу далеко каждому иметь кубиков животе иметь грамма лишнего жира кожей хочется многим общем году крейг разродился новой программой сути полноценная тренировка повторов упражнений понадобятся съемный турник фитбол табуретка программа развивает выносливость сжигает жир улучшает мышечный рельеф главное занимает минут минус лишь новичков подходит указания тренируйся описанной ниже схеме трижды неделю понедельник среду пятницу например стремись выполнять упражнения подряд отдыха справиться начни половины повторов лишь твоей целью схема тренировки приседаний заключенного отжиманий пола зашагиваний платформу каждой ногой подтягиваний широким хватом выпрыгиваний сгибаний голени фитболе группировок фитболе динамических выпадов каждой ногой отжиманий узким положением ладоней подтягиваний низкой перекладине приседаний заключенного подтягиваний обратным хватом источник чаще травмируются связки коленного сустава сустава стопы разрыве слышен характерный звук щелчок коленном суставе правило разрывается крестообразные латеральные связки разрыв сопровождаться повреждением мениска резкой сильной болью разрыв крестообразной связки рассмотреть примере выдвижного ящика сгибании ноги колене происходит смещение голени вперед назад случае неправильном движении произойти разрыв внутренней связки внешней вращательном движении разорваться обе общими симптомами разрыва связки сильная боль сустава припухлость ненормальное анатомическое положение лечение разрыва связок происходить следующей схеме принять обезболивающий препарат наложить давящую повязку следует наложить компресс изо льда немедленная госпитализация целью определения сложности разрыва связок необходимо сделать рентген артроскопияю метод точного обследования суставов связка оторваться вместе костным фрагментом диагностическое обследование проводится любом случае госпитализация обязательна разрывах связок практически случаях необходима операция операции необходимо длительное восстановления сустава мышечного тонуса обеспечение подвижности используют соответствующее медикаментозное лечение поддерживающие повязки разрабатывается необходимый курс физических упражнений нагрузок рекомендации врача необходимо выполнять строго неукоснительно противном случае возникнут осложнения связки потерять функцию направлять сустав нужную сторону разрыв связок первая помощь важно сразу разрыва связок снять отёчность первой возможности наложить фиксирующую повязку  ...  необходимо например случае поэтому времени\n",
              "\n",
              "[2 rows x 3 columns]"
            ]
          },
          "metadata": {
            "tags": []
          },
          "execution_count": 95
        }
      ]
    },
    {
      "cell_type": "markdown",
      "metadata": {
        "id": "j2GukrAk4SCd",
        "colab_type": "text"
      },
      "source": [
        "Здесь второй документ так же склассифицирован не очень хорошо. Проверим так же как и в прошлый раз"
      ]
    },
    {
      "cell_type": "code",
      "metadata": {
        "id": "2Ld0YLHv4u0t",
        "colab_type": "code",
        "colab": {
          "base_uri": "https://localhost:8080/",
          "height": 34
        },
        "outputId": "38acbf18-0818-470a-f7c9-ba46ce68ac8b"
      },
      "source": [
        "print(sum([word in s for word in test_df.loc[8099, 'text'].split(' ')]), \n",
        "      'words of', len(test_df.loc[8099, 'text'].split(' ')), \n",
        "      'in Count Vectorizer')"
      ],
      "execution_count": 102,
      "outputs": [
        {
          "output_type": "stream",
          "text": [
            "577 words of 650 in Count Vectorizer and\n"
          ],
          "name": "stdout"
        }
      ]
    },
    {
      "cell_type": "markdown",
      "metadata": {
        "id": "YY9SrYkc_U_h",
        "colab_type": "text"
      },
      "source": [
        "Но в данном тексте мног слов из label'а"
      ]
    },
    {
      "cell_type": "code",
      "metadata": {
        "id": "XBq19MzR_hru",
        "colab_type": "code",
        "colab": {
          "base_uri": "https://localhost:8080/",
          "height": 34
        },
        "outputId": "b91c33f5-e29b-46ec-8310-6dee9e892dac"
      },
      "source": [
        "label = set(test_df.loc[8099, 'label_tokens'].split())\n",
        "sum([word in label for word in test_df.loc[8099, 'text'].split()])"
      ],
      "execution_count": 109,
      "outputs": [
        {
          "output_type": "execute_result",
          "data": {
            "text/plain": [
              "8"
            ]
          },
          "metadata": {
            "tags": []
          },
          "execution_count": 109
        }
      ]
    },
    {
      "cell_type": "markdown",
      "metadata": {
        "id": "XfEbqWWfAGJY",
        "colab_type": "text"
      },
      "source": [
        "Это довольно много, учитывая то, что не учитываются остальные слова, не вошедшие в топ 5"
      ]
    },
    {
      "cell_type": "markdown",
      "metadata": {
        "id": "fkEOkPQCCjqh",
        "colab_type": "text"
      },
      "source": [
        "### Возможные улучшения"
      ]
    },
    {
      "cell_type": "markdown",
      "metadata": {
        "id": "Jtdpf7nWCo4q",
        "colab_type": "text"
      },
      "source": [
        "1) Попробовать другое количество кластеров, либо подобрать их в зависимости от perplexity [1]\n",
        "\n",
        "2) Поменять *max_df* у *CountVectorizer* на 0.6 как написано [1]\n",
        "\n",
        "3) Сделать лематизацию/стеминг, чтобы окончательно быть уверенным, что данные правильно подготовлены\n",
        "\n",
        "4) Попробовать *TF-IDF* вместо *CountVectorizer*\n",
        "\n",
        "[[1]](https://www.quora.com/What-are-good-ways-of-evaluating-the-topics-generated-by-running-LDA-on-a-corpus)"
      ]
    }
  ]
}